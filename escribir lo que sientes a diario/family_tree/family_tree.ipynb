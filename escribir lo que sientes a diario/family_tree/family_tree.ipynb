{
 "cells": [
  {
   "cell_type": "markdown",
   "metadata": {},
   "source": [
    "# [La documentación de la librería Networkx de python](https://networkx.org/documentation/latest/tutorial.html)  \n",
    "\n"
   ]
  },
  {
   "cell_type": "markdown",
   "metadata": {},
   "source": [
    "## Tutorial  \n",
    "\n",
    "This guide can help you start working with NetworkX."
   ]
  },
  {
   "cell_type": "markdown",
   "metadata": {},
   "source": [
    "### Creating a graph  \n",
    "\n",
    "Create an empty graph with no nodes and no edges."
   ]
  },
  {
   "cell_type": "code",
   "execution_count": null,
   "metadata": {},
   "outputs": [],
   "source": []
  },
  {
   "cell_type": "code",
   "execution_count": 5,
   "metadata": {},
   "outputs": [],
   "source": [
    "import networkx as nx \n",
    "\n",
    "G = nx.Graph() # instanciar la clase o crear un objeto de la clase Graph.\n",
    "\n",
    "\n",
    "G.add_node(1)\n",
    "\n",
    "G.add_nodes_from([2,3])\n",
    "\n",
    "G.add_nodes_from([(4, {'color': 'blue'}), (5, {'age': 15})])\n",
    "\n",
    "H = nx.path_graph(10)\n"
   ]
  },
  {
   "cell_type": "code",
   "execution_count": 6,
   "metadata": {},
   "outputs": [
    {
     "data": {
      "text/plain": [
       "networkx.classes.graph.Graph"
      ]
     },
     "execution_count": 6,
     "metadata": {},
     "output_type": "execute_result"
    }
   ],
   "source": [
    "type(H)"
   ]
  },
  {
   "cell_type": "code",
   "execution_count": null,
   "metadata": {},
   "outputs": [],
   "source": []
  },
  {
   "cell_type": "code",
   "execution_count": null,
   "metadata": {},
   "outputs": [],
   "source": []
  },
  {
   "cell_type": "markdown",
   "metadata": {},
   "source": [
    "# Vocabulary\n"
   ]
  },
  {
   "cell_type": "markdown",
   "metadata": {},
   "source": [
    "\n",
    "1. Above: arriba\n",
    "2. Below: abajo. \n",
    "3. Edge: borde. \n",
    "4. grow: crecer. \n",
    "5. grown: crecido\n",
    "6. several: varias \n",
    "7. ways: maneras\n",
    "8. net: red. \n",
    "9. network: red\n",
    "10. web: red\n",
    "11. grid: red\n",
    "12. nodes:\n",
    "13. edges: \n",
    "14. Our: nuestros. \n",
    "15. Grants: subsidios. \n",
    "16. Piece: parte o pieza. \n",
    "17. Thanks to supporters like you: Gracias a partidarios como usted. \n",
    "18. At a time: a la vez. \n",
    "19. bunch: racimo. \n",
    "20. Are discussed further below: son discutidos más adelante. \n",
    "21. further below: más adelante. \n",
    "22. held: pasado de hold\n",
    "23. hold: sostener. \n",
    "\n",
    "[Primera versión del vocabulario de hoy](https://voca.ro/1jCfxuFKl5Xz)"
   ]
  },
  {
   "cell_type": "markdown",
   "metadata": {},
   "source": [
    "# Ahora sí el arbol genealógico de mi familia\n",
    "\n"
   ]
  },
  {
   "cell_type": "code",
   "execution_count": 3,
   "metadata": {},
   "outputs": [],
   "source": [
    "# abuelo materno Jose Nestor o Ernesto y abuela materna: Rosa Elena.\n",
    "\n",
    "import networkx as nx  \n",
    "\n",
    "import matplotlib.pyplot as plt\n",
    "\n",
    "G = nx.Graph()\n",
    "\n",
    "G.add_nodes_from([('José Nestor', {'color':'green'})])\n",
    "\n",
    "\n",
    "\n"
   ]
  },
  {
   "cell_type": "markdown",
   "metadata": {},
   "source": [
    "# Referentes\n",
    "\n",
    "* [Documentaciión de la librería networkx](https://networkx.org/documentation/latest/auto_examples/index.html)  \n",
    "* "
   ]
  },
  {
   "cell_type": "markdown",
   "metadata": {},
   "source": []
  }
 ],
 "metadata": {
  "kernelspec": {
   "display_name": ".venv",
   "language": "python",
   "name": "python3"
  },
  "language_info": {
   "codemirror_mode": {
    "name": "ipython",
    "version": 3
   },
   "file_extension": ".py",
   "mimetype": "text/x-python",
   "name": "python",
   "nbconvert_exporter": "python",
   "pygments_lexer": "ipython3",
   "version": "3.10.12"
  }
 },
 "nbformat": 4,
 "nbformat_minor": 2
}
