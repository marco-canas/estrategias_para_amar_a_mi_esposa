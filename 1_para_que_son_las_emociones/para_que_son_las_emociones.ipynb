{
 "cells": [
  {
   "cell_type": "markdown",
   "metadata": {},
   "source": []
  },
  {
   "cell_type": "markdown",
   "metadata": {},
   "source": []
  },
  {
   "cell_type": "markdown",
   "metadata": {},
   "source": [
    "# ¿Para que son las emociones? "
   ]
  },
  {
   "cell_type": "markdown",
   "metadata": {},
   "source": [
    "*Es con el corazón como vemos correctamente; lo esencial es invisile a los ojos* Antoine de Saint -- Exupéry, El principito. "
   ]
  },
  {
   "cell_type": "markdown",
   "metadata": {},
   "source": [
    "Consideremos los últimos momentos de la vida de Gary y Mary Jane Chauncey, una pareja totalmente consagrada a su hija Andrea, de once años, confinada en una silla de ruedas a causa de la parálisis cerebral. "
   ]
  },
  {
   "cell_type": "markdown",
   "metadata": {},
   "source": [
    "La familia Chauncey viajaba en un tren Amtrak que cayó al rio después que una barcaza chocara con un puente del ferrocarril en Luisiana, derribándolo. "
   ]
  },
  {
   "cell_type": "markdown",
   "metadata": {},
   "source": []
  },
  {
   "cell_type": "markdown",
   "metadata": {},
   "source": [
    "# Cuando las pasiones aplastan a la razón"
   ]
  },
  {
   "cell_type": "markdown",
   "metadata": {},
   "source": [
    "Fue una sucesión de errores trágicos. "
   ]
  },
  {
   "cell_type": "markdown",
   "metadata": {},
   "source": [
    "Matilda Crabtree, de catorce años, quiso hacerle una broma a su padre: salió de un armario dando un salto y gritando \"¡Buuu!\" mientras sus padres entraban en la casa a la una de la mañana, después de visitar a unos amigos. "
   ]
  },
  {
   "cell_type": "code",
   "execution_count": null,
   "metadata": {
    "vscode": {
     "languageId": "plaintext"
    }
   },
   "outputs": [],
   "source": []
  },
  {
   "cell_type": "code",
   "execution_count": null,
   "metadata": {
    "vscode": {
     "languageId": "plaintext"
    }
   },
   "outputs": [],
   "source": []
  },
  {
   "cell_type": "code",
   "execution_count": null,
   "metadata": {
    "vscode": {
     "languageId": "plaintext"
    }
   },
   "outputs": [],
   "source": []
  },
  {
   "cell_type": "code",
   "execution_count": null,
   "metadata": {
    "vscode": {
     "languageId": "plaintext"
    }
   },
   "outputs": [],
   "source": []
  }
 ],
 "metadata": {
  "language_info": {
   "name": "python"
  },
  "orig_nbformat": 4
 },
 "nbformat": 4,
 "nbformat_minor": 2
}
